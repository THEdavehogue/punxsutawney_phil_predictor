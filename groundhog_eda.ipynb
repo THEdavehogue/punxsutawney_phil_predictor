{
 "cells": [
  {
   "cell_type": "code",
   "execution_count": 50,
   "metadata": {
    "collapsed": true
   },
   "outputs": [],
   "source": [
    "import os\n",
    "import json\n",
    "import numpy as np\n",
    "import pandas as pd\n",
    "#import socket\n",
    "import requests\n",
    "#from time import sleep\n",
    "#from multiprocessing import Pool, cpu_count\n",
    "from datetime import datetime, timedelta\n",
    "from progressbar import ProgressBar\n",
    "from pymongo import MongoClient"
   ]
  },
  {
   "cell_type": "code",
   "execution_count": 5,
   "metadata": {
    "collapsed": false
   },
   "outputs": [],
   "source": [
    "key = os.environ['DARK_SKY_KEY']\n",
    "lat = '40.9310'\n",
    "lon = '-78.9572'"
   ]
  },
  {
   "cell_type": "code",
   "execution_count": 115,
   "metadata": {
    "collapsed": true
   },
   "outputs": [],
   "source": [
    "''' sources:\n",
    "http://www.groundhog.org/about/history/\n",
    "http://www.groundhog.org/fileadmin/user_upload/siteImages/pdf/Groundhog_Day_Historical_Predictions.pdf\n",
    "'''\n",
    "early_spring_years = ['1950', '1970', '1975', '1983', '1986', '1988', '1990', \n",
    "                      '1995', '1997', '1999', '2007', '2011', '2013', '2016']"
   ]
  },
  {
   "cell_type": "code",
   "execution_count": 116,
   "metadata": {
    "collapsed": false
   },
   "outputs": [],
   "source": [
    "def unix_to_datetime(unix_time):\n",
    "    '''\n",
    "    Convert UNIX time to datetime\n",
    "    \n",
    "    INPUT:\n",
    "        unix_time: int, UNIX time (seconds since 1970-01-01 00:00:00)\n",
    "\n",
    "    OUTPUT:\n",
    "        new_dt: datetime object, datetime representation of unix_time\n",
    "    '''\n",
    "    orig = datetime(1970, 1, 1, 0, 0, 0, 0)\n",
    "    new_dt = orig + timedelta(seconds=unix_time)\n",
    "    return new_dt"
   ]
  },
  {
   "cell_type": "code",
   "execution_count": 111,
   "metadata": {
    "collapsed": false
   },
   "outputs": [
    {
     "name": "stdout",
     "output_type": "stream",
     "text": [
      "earliest year available: 1902\n"
     ]
    }
   ],
   "source": [
    "years = map(str, np.arange(1944, 2018))\n",
    "\n",
    "for year in years:\n",
    "    \n",
    "    time = '{}-02-02T00:00:00'.format(year)\n",
    "    url = 'https://api.darksky.net/forecast/{}/{},{},{}'.format(key, lat, lon, time)\n",
    "    try:\n",
    "        response = requests.get(url)\n",
    "    except:\n",
    "        continue\n",
    "    \n",
    "    if response.status_code == 200:\n",
    "        forecast = response.json()\n",
    "        try:\n",
    "            print \"found data for {}\".format(unix_to_datetime(forecast['daily']['data'][0]['time']))\n",
    "        except:\n",
    "            continue\n",
    "    else:\n",
    "        print \"earliest year available: {}\".format(int(year) + 1)\n",
    "        break"
   ]
  },
  {
   "cell_type": "code",
   "execution_count": 134,
   "metadata": {
    "collapsed": false
   },
   "outputs": [],
   "source": [
    "year = 2017\n",
    "time = '{}-02-02T012:00:00Z'.format(year)\n",
    "url = 'https://api.darksky.net/forecast/{}/{},{},{}'.format(key, lat, lon, time)"
   ]
  },
  {
   "cell_type": "code",
   "execution_count": 169,
   "metadata": {
    "collapsed": true
   },
   "outputs": [],
   "source": [
    "response = requests.get(url)\n",
    "\n",
    "if response.status_code == 200:\n",
    "    forecast = response.json()"
   ]
  },
  {
   "cell_type": "code",
   "execution_count": 170,
   "metadata": {
    "collapsed": false
   },
   "outputs": [
    {
     "name": "stdout",
     "output_type": "stream",
     "text": [
      "2017-02-02 07:00:00\n"
     ]
    }
   ],
   "source": [
    "print unix_to_datetime(forecast['currently']['time'])"
   ]
  },
  {
   "cell_type": "code",
   "execution_count": 171,
   "metadata": {
    "collapsed": false
   },
   "outputs": [
    {
     "name": "stdout",
     "output_type": "stream",
     "text": [
      "2017-02-02 07:00:00\n"
     ]
    }
   ],
   "source": [
    "print unix_to_datetime(forecast['hourly']['data'][2]['time'])"
   ]
  },
  {
   "cell_type": "code",
   "execution_count": 172,
   "metadata": {
    "collapsed": true
   },
   "outputs": [],
   "source": [
    "db_client = MongoClient()\n",
    "db = db_client['groundhog_day']\n",
    "pred_coll = db['predictions']"
   ]
  },
  {
   "cell_type": "code",
   "execution_count": 175,
   "metadata": {
    "collapsed": false
   },
   "outputs": [],
   "source": [
    "forecast['prediction'] = 0"
   ]
  },
  {
   "cell_type": "code",
   "execution_count": 177,
   "metadata": {
    "collapsed": false
   },
   "outputs": [
    {
     "data": {
      "text/plain": [
       "0"
      ]
     },
     "execution_count": 177,
     "metadata": {},
     "output_type": "execute_result"
    }
   ],
   "source": [
    "forecast['prediction']"
   ]
  },
  {
   "cell_type": "code",
   "execution_count": null,
   "metadata": {
    "collapsed": false
   },
   "outputs": [],
   "source": []
  },
  {
   "cell_type": "code",
   "execution_count": null,
   "metadata": {
    "collapsed": true
   },
   "outputs": [],
   "source": []
  }
 ],
 "metadata": {
  "anaconda-cloud": {},
  "kernelspec": {
   "display_name": "Python [Root]",
   "language": "python",
   "name": "Python [Root]"
  },
  "language_info": {
   "codemirror_mode": {
    "name": "ipython",
    "version": 2
   },
   "file_extension": ".py",
   "mimetype": "text/x-python",
   "name": "python",
   "nbconvert_exporter": "python",
   "pygments_lexer": "ipython2",
   "version": "2.7.12"
  }
 },
 "nbformat": 4,
 "nbformat_minor": 0
}
